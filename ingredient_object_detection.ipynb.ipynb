{
  "cells": [
    {
      "cell_type": "code",
      "execution_count": null,
      "metadata": {
        "colab": {
          "base_uri": "https://localhost:8080/"
        },
        "id": "_QvcnKC0efyr",
        "outputId": "e133942d-dbff-40d6-bbf9-0b220ea624c7"
      },
      "outputs": [],
      "source": [
        "from roboflow import Roboflow\n",
        "import yaml\n",
        "with open(\"secret.yaml\", encoding=\"UTF-8\") as f:\n",
        "    cfg = yaml.load(f, Loader=yaml.FullLoader)\n",
        "api_key = cfg['roboflow_api']"
      ]
    },
    {
      "cell_type": "code",
      "execution_count": null,
      "metadata": {},
      "outputs": [],
      "source": [
        "rf = Roboflow(api_key=api_key)\n",
        "project = rf.workspace('ecoportion').project('ingredients-ro9cj')\n",
        "dataset = project.version(5).download(\"yolov8\")"
      ]
    },
    {
      "cell_type": "code",
      "execution_count": null,
      "metadata": {
        "colab": {
          "base_uri": "https://localhost:8080/"
        },
        "id": "xMuINUzE85RB",
        "outputId": "d6dfd51a-6a20-45e2-bb44-c0c07baec8be"
      },
      "outputs": [],
      "source": [
        "!yolo task=detect mode=train model=yolov8n.pt data={dataset.location}/data.yaml epochs=125  plots=True"
      ]
    }
  ],
  "metadata": {
    "colab": {
      "provenance": []
    },
    "kernelspec": {
      "display_name": "Python 3",
      "name": "python3"
    },
    "language_info": {
      "codemirror_mode": {
        "name": "ipython",
        "version": 3
      },
      "file_extension": ".py",
      "mimetype": "text/x-python",
      "name": "python",
      "nbconvert_exporter": "python",
      "pygments_lexer": "ipython3",
      "version": "3.9.5"
    }
  },
  "nbformat": 4,
  "nbformat_minor": 0
}
